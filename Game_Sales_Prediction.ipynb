{
 "cells": [
  {
   "cell_type": "code",
   "execution_count": 6,
   "id": "ed56d124",
   "metadata": {},
   "outputs": [
    {
     "name": "stdout",
     "output_type": "stream",
     "text": [
      "Feature name || Total missing values\n",
      "Name               2\n",
      "Genre              2\n",
      "NA_Sales           0\n",
      "EU_Sales           0\n",
      "JP_Sales           0\n",
      "Other_Sales        0\n",
      "Global_Sales       0\n",
      "Critic_Score    8582\n",
      "Critic_Count    8582\n",
      "User_Score      9129\n",
      "User_Count      9129\n",
      "Rating          6769\n",
      "dtype: int64\n"
     ]
    }
   ],
   "source": [
    "# Importing the required libraries\n",
    "import pandas as pd\n",
    "import numpy as np\n",
    "\n",
    "# Importing the dataset\n",
    "dataset = pd.read_csv('Video_Games_Sales_as_at_22_Dec_2016.csv')\n",
    "\n",
    "# Dropping certain less important features\n",
    "dataset.drop(columns=['Year_of_Release', 'Developer', 'Publisher',\n",
    "             'Platform'], inplace=True)  # Add year_of_release\n",
    "\n",
    "# To view the columns with missing values\n",
    "print('Feature name || Total missing values')\n",
    "print(dataset.isna().sum())"
   ]
  },
  {
   "cell_type": "code",
   "execution_count": 7,
   "id": "89f0a780",
   "metadata": {},
   "outputs": [],
   "source": [
    "X = dataset.iloc[:, :].values\n",
    "X = np.delete(X, 6, 1)\n",
    "\n",
    "y = dataset.iloc[:, 6:7].values\n",
    "\n",
    "# Splitting the dataset into Train and Test sets\n",
    "from sklearn.model_selection import train_test_split\n",
    "X_train, X_test, y_train, y_test = train_test_split(X, y, test_size = 0.3, random_state = 0)\n",
    "\n",
    "# Saving name of the games in training and test set\n",
    "games_in_training_set = X_train[:, 0]\n",
    "games_in_test_set = X_test[:, 0]\n",
    "\n",
    "# Dropping the column that contains the name of the games\n",
    "X_train = X_train[:, 1:]\n",
    "X_test = X_test[:, 1:]"
   ]
  },
  {
   "cell_type": "code",
   "execution_count": 17,
   "id": "f4d56d53",
   "metadata": {},
   "outputs": [
    {
     "data": {
      "text/plain": [
       "array([[0.0, 0.0, 0.0, ..., 50.0, 9.1, 21.0],\n",
       "       [1.0, 0.0, 0.0, ..., 17.0, 5.7, 18.0],\n",
       "       [0.0, 0.0, 0.0, ..., 44.0, 5.9, 27.0],\n",
       "       ...,\n",
       "       [0.0, 0.0, 0.0, ..., 26.525275494140285, 7.3, 4.0],\n",
       "       [0.0, 0.0, 0.0, ..., 19.0, 8.0, 50.0],\n",
       "       [0.0, 0.0, 1.0, ..., 25.0, 7.5, 66.0]], dtype=object)"
      ]
     },
     "execution_count": 17,
     "metadata": {},
     "output_type": "execute_result"
    }
   ],
   "source": [
    "X_test"
   ]
  },
  {
   "cell_type": "code",
   "execution_count": 18,
   "id": "3551f787",
   "metadata": {},
   "outputs": [
    {
     "data": {
      "text/plain": [
       "array([[1.0, 0.0, 0.0, ..., 26.525275494140285, 7.127238525206922,\n",
       "        160.46444695259595],\n",
       "       [0.0, 0.0, 0.0, ..., 88.0, 8.5, 1184.0],\n",
       "       [0.0, 0.0, 0.0, ..., 26.525275494140285, 7.127238525206922,\n",
       "        160.46444695259595],\n",
       "       ...,\n",
       "       [0.0, 0.0, 0.0, ..., 18.0, 8.6, 236.0],\n",
       "       [0.0, 0.0, 0.0, ..., 30.0, 7.7, 43.0],\n",
       "       [0.0, 0.0, 0.0, ..., 26.525275494140285, 7.127238525206922,\n",
       "        160.46444695259595]], dtype=object)"
      ]
     },
     "execution_count": 18,
     "metadata": {},
     "output_type": "execute_result"
    }
   ],
   "source": [
    "X_train"
   ]
  },
  {
   "cell_type": "code",
   "execution_count": 9,
   "id": "f08d78c8",
   "metadata": {},
   "outputs": [],
   "source": [
    "from sklearn.impute import SimpleImputer\n",
    "imputer = SimpleImputer(missing_values=np.nan, strategy='mean')\n",
    "X_train[:, [5 ,6, 7, 8]] = imputer.fit_transform(X_train[:, [5, 6, 7, 8]])\n",
    "X_test[:, [5 ,6, 7, 8]] = imputer.transform(X_test[:, [5, 6, 7, 8]])"
   ]
  },
  {
   "cell_type": "code",
   "execution_count": 10,
   "id": "6c14b8f4",
   "metadata": {},
   "outputs": [],
   "source": [
    "from sklearn.compose import ColumnTransformer\n",
    "from sklearn.preprocessing import OneHotEncoder\n",
    "ct = ColumnTransformer(\n",
    "    transformers=[('encoder', OneHotEncoder(), [0, 9])], remainder='passthrough')\n",
    "X_train = ct.fit_transform(X_train)\n",
    "X_test = ct.transform(X_test)\n"
   ]
  },
  {
   "cell_type": "code",
   "execution_count": 13,
   "id": "6ab60101",
   "metadata": {},
   "outputs": [
    {
     "data": {
      "text/plain": [
       "XGBRegressor(base_score=0.5, booster='gbtree', callbacks=None,\n",
       "             colsample_bylevel=1, colsample_bynode=1, colsample_bytree=1,\n",
       "             early_stopping_rounds=None, enable_categorical=False,\n",
       "             eval_metric=None, gamma=0, gpu_id=-1, grow_policy='depthwise',\n",
       "             importance_type=None, interaction_constraints='',\n",
       "             learning_rate=0.08, max_bin=256, max_cat_to_onehot=4,\n",
       "             max_delta_step=0, max_depth=6, max_leaves=0, min_child_weight=1,\n",
       "             missing=nan, monotone_constraints='()', n_estimators=200, n_jobs=0,\n",
       "             num_parallel_tree=1, predictor='auto', random_state=0, reg_alpha=0,\n",
       "             reg_lambda=1, ...)"
      ]
     },
     "execution_count": 13,
     "metadata": {},
     "output_type": "execute_result"
    }
   ],
   "source": [
    "from xgboost import XGBRegressor\n",
    "model = XGBRegressor(n_estimators = 200, learning_rate= 0.08)\n",
    "model.fit(X_train, y_train)"
   ]
  },
  {
   "cell_type": "code",
   "execution_count": 14,
   "id": "cbb7f54f",
   "metadata": {},
   "outputs": [],
   "source": [
    "# Predicting test set results\n",
    "y_pred = model.predict(X_test)\n",
    "\n",
    "# Visualising actual and predicted sales\n",
    "games_in_test_set = games_in_test_set.reshape(-1, 1)\n",
    "y_pred = y_pred.reshape(-1, 1)\n",
    "predictions = np.concatenate([games_in_test_set, y_pred, y_test], axis = 1)\n",
    "predictions = pd.DataFrame(predictions, columns = ['Name', 'Predicted_Global_Sales', 'Actual_Global_Sales'])"
   ]
  },
  {
   "cell_type": "code",
   "execution_count": 15,
   "id": "2f85bfdf",
   "metadata": {},
   "outputs": [
    {
     "data": {
      "text/html": [
       "<div>\n",
       "<style scoped>\n",
       "    .dataframe tbody tr th:only-of-type {\n",
       "        vertical-align: middle;\n",
       "    }\n",
       "\n",
       "    .dataframe tbody tr th {\n",
       "        vertical-align: top;\n",
       "    }\n",
       "\n",
       "    .dataframe thead th {\n",
       "        text-align: right;\n",
       "    }\n",
       "</style>\n",
       "<table border=\"1\" class=\"dataframe\">\n",
       "  <thead>\n",
       "    <tr style=\"text-align: right;\">\n",
       "      <th></th>\n",
       "      <th>Name</th>\n",
       "      <th>Predicted_Global_Sales</th>\n",
       "      <th>Actual_Global_Sales</th>\n",
       "    </tr>\n",
       "  </thead>\n",
       "  <tbody>\n",
       "    <tr>\n",
       "      <th>0</th>\n",
       "      <td>R-Type Final</td>\n",
       "      <td>0.186028</td>\n",
       "      <td>0.19</td>\n",
       "    </tr>\n",
       "    <tr>\n",
       "      <th>1</th>\n",
       "      <td>The Terminator: Dawn of Fate</td>\n",
       "      <td>0.41634</td>\n",
       "      <td>0.41</td>\n",
       "    </tr>\n",
       "    <tr>\n",
       "      <th>2</th>\n",
       "      <td>Dead to Rights: Retribution</td>\n",
       "      <td>0.293324</td>\n",
       "      <td>0.28</td>\n",
       "    </tr>\n",
       "    <tr>\n",
       "      <th>3</th>\n",
       "      <td>Skylanders SWAP Force</td>\n",
       "      <td>2.169221</td>\n",
       "      <td>2.15</td>\n",
       "    </tr>\n",
       "    <tr>\n",
       "      <th>4</th>\n",
       "      <td>DiRT</td>\n",
       "      <td>1.161763</td>\n",
       "      <td>1.05</td>\n",
       "    </tr>\n",
       "    <tr>\n",
       "      <th>...</th>\n",
       "      <td>...</td>\n",
       "      <td>...</td>\n",
       "      <td>...</td>\n",
       "    </tr>\n",
       "    <tr>\n",
       "      <th>5011</th>\n",
       "      <td>Dynasty Warriors</td>\n",
       "      <td>0.457753</td>\n",
       "      <td>0.51</td>\n",
       "    </tr>\n",
       "    <tr>\n",
       "      <th>5012</th>\n",
       "      <td>Transformers: Dark of the Moon</td>\n",
       "      <td>0.171426</td>\n",
       "      <td>0.17</td>\n",
       "    </tr>\n",
       "    <tr>\n",
       "      <th>5013</th>\n",
       "      <td>Brunswick Pro Bowling</td>\n",
       "      <td>0.204492</td>\n",
       "      <td>0.21</td>\n",
       "    </tr>\n",
       "    <tr>\n",
       "      <th>5014</th>\n",
       "      <td>Valentino Rossi: The Game</td>\n",
       "      <td>0.067381</td>\n",
       "      <td>0.08</td>\n",
       "    </tr>\n",
       "    <tr>\n",
       "      <th>5015</th>\n",
       "      <td>Street Fighter X Tekken</td>\n",
       "      <td>0.193131</td>\n",
       "      <td>0.19</td>\n",
       "    </tr>\n",
       "  </tbody>\n",
       "</table>\n",
       "<p>5016 rows × 3 columns</p>\n",
       "</div>"
      ],
      "text/plain": [
       "                                Name Predicted_Global_Sales  \\\n",
       "0                       R-Type Final               0.186028   \n",
       "1       The Terminator: Dawn of Fate                0.41634   \n",
       "2        Dead to Rights: Retribution               0.293324   \n",
       "3              Skylanders SWAP Force               2.169221   \n",
       "4                               DiRT               1.161763   \n",
       "...                              ...                    ...   \n",
       "5011                Dynasty Warriors               0.457753   \n",
       "5012  Transformers: Dark of the Moon               0.171426   \n",
       "5013           Brunswick Pro Bowling               0.204492   \n",
       "5014       Valentino Rossi: The Game               0.067381   \n",
       "5015         Street Fighter X Tekken               0.193131   \n",
       "\n",
       "     Actual_Global_Sales  \n",
       "0                   0.19  \n",
       "1                   0.41  \n",
       "2                   0.28  \n",
       "3                   2.15  \n",
       "4                   1.05  \n",
       "...                  ...  \n",
       "5011                0.51  \n",
       "5012                0.17  \n",
       "5013                0.21  \n",
       "5014                0.08  \n",
       "5015                0.19  \n",
       "\n",
       "[5016 rows x 3 columns]"
      ]
     },
     "execution_count": 15,
     "metadata": {},
     "output_type": "execute_result"
    }
   ],
   "source": [
    "predictions"
   ]
  },
  {
   "cell_type": "code",
   "execution_count": 16,
   "id": "f28da30c",
   "metadata": {},
   "outputs": [
    {
     "name": "stdout",
     "output_type": "stream",
     "text": [
      "r2 score of the model : 0.732\n",
      "Root Mean Squared Error of the model : 0.743\n"
     ]
    }
   ],
   "source": [
    "from sklearn.metrics import r2_score, mean_squared_error\n",
    "import math\n",
    "r2_score = r2_score(y_test, y_pred)\n",
    "rmse = math.sqrt(mean_squared_error(y_test, y_pred))\n",
    "print(f\"r2 score of the model : {r2_score:.3f}\")\n",
    "print(f\"Root Mean Squared Error of the model : {rmse:.3f}\")\n"
   ]
  },
  {
   "cell_type": "code",
   "execution_count": null,
   "id": "02eac003",
   "metadata": {},
   "outputs": [],
   "source": []
  }
 ],
 "metadata": {
  "kernelspec": {
   "display_name": "Python 3 (ipykernel)",
   "language": "python",
   "name": "python3"
  },
  "language_info": {
   "codemirror_mode": {
    "name": "ipython",
    "version": 3
   },
   "file_extension": ".py",
   "mimetype": "text/x-python",
   "name": "python",
   "nbconvert_exporter": "python",
   "pygments_lexer": "ipython3",
   "version": "3.9.7"
  }
 },
 "nbformat": 4,
 "nbformat_minor": 5
}
